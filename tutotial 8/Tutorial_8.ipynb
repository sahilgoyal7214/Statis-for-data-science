{
  "nbformat": 4,
  "nbformat_minor": 0,
  "metadata": {
    "colab": {
      "provenance": [],
      "authorship_tag": "ABX9TyMKm9ilAk8TzIEq4vp2zuiG",
      "include_colab_link": true
    },
    "kernelspec": {
      "name": "python3",
      "display_name": "Python 3"
    },
    "language_info": {
      "name": "python"
    }
  },
  "cells": [
    {
      "cell_type": "markdown",
      "metadata": {
        "id": "view-in-github",
        "colab_type": "text"
      },
      "source": [
        "<a href=\"https://colab.research.google.com/github/sahilgoyal7214/Statistics-for-Data-Science/blob/main/tutotial%208/Tutorial_8.ipynb\" target=\"_parent\"><img src=\"https://colab.research.google.com/assets/colab-badge.svg\" alt=\"Open In Colab\"/></a>"
      ]
    },
    {
      "cell_type": "code",
      "execution_count": 19,
      "metadata": {
        "id": "rFID7ksTdCMq"
      },
      "outputs": [],
      "source": [
        "import numpy as np\n",
        "import pandas as pd\n",
        "import matplotlib.pyplot as plt\n",
        "import seaborn"
      ]
    },
    {
      "cell_type": "code",
      "source": [
        "df=pd.read_csv(\"/content/T1 - T1.csv\")\n",
        "x=df[\"Wind Speed (m/s)\"]"
      ],
      "metadata": {
        "id": "7JwTxGfKflG3"
      },
      "execution_count": 20,
      "outputs": []
    },
    {
      "cell_type": "markdown",
      "source": [
        "window size 2\n"
      ],
      "metadata": {
        "id": "Meqx1fhkAryp"
      }
    },
    {
      "cell_type": "code",
      "source": [
        "window=x.rolling(2)\n"
      ],
      "metadata": {
        "id": "Hgozl8gpfwbv"
      },
      "execution_count": null,
      "outputs": []
    },
    {
      "cell_type": "code",
      "source": [
        "rolling_mean=window.mean()\n",
        "rolling_mean"
      ],
      "metadata": {
        "colab": {
          "base_uri": "https://localhost:8080/"
        },
        "id": "7RI5-SeVhfxj",
        "outputId": "e92b0944-52c9-448b-9484-ca18ec7a19e7"
      },
      "execution_count": 22,
      "outputs": [
        {
          "output_type": "execute_result",
          "data": {
            "text/plain": [
              "0              NaN\n",
              "1         5.491751\n",
              "2         5.444102\n",
              "3         5.437855\n",
              "4         5.618808\n",
              "           ...    \n",
              "50525    11.981600\n",
              "50526     9.368339\n",
              "50527     7.884003\n",
              "50528     8.928362\n",
              "50529     9.700349\n",
              "Name: Wind Speed (m/s), Length: 50530, dtype: float64"
            ]
          },
          "metadata": {},
          "execution_count": 22
        }
      ]
    },
    {
      "cell_type": "code",
      "source": [
        "mean=np.mean(rolling_mean)"
      ],
      "metadata": {
        "id": "fNcLi372hlmq"
      },
      "execution_count": 23,
      "outputs": []
    },
    {
      "cell_type": "code",
      "source": [
        "n=len(x)\n",
        "x_forcast=[]\n",
        "h=int(input('enter the window size '))\n",
        "for i in range(0,50529):\n",
        "  if i<h:\n",
        "    x_forcast.append(0)\n",
        "  else:\n",
        "    x_forcast.append(sum(x.iloc[i-h:i])/h)\n",
        "\n",
        "mean1=np.array(x_forcast)"
      ],
      "metadata": {
        "colab": {
          "base_uri": "https://localhost:8080/"
        },
        "id": "kZ56e8Tkh8Q5",
        "outputId": "76747868-eb9b-4f7f-f5d8-f7e043495100"
      },
      "execution_count": 24,
      "outputs": [
        {
          "name": "stdout",
          "output_type": "stream",
          "text": [
            "enter the window size 2\n"
          ]
        }
      ]
    },
    {
      "cell_type": "code",
      "source": [
        "x_mean=np.mean(x)"
      ],
      "metadata": {
        "id": "mUFDB-Ldp3SK"
      },
      "execution_count": 35,
      "outputs": []
    },
    {
      "cell_type": "code",
      "source": [
        "mae=np.mean(abs(x-rolling_mean))\n",
        "mae"
      ],
      "metadata": {
        "colab": {
          "base_uri": "https://localhost:8080/"
        },
        "id": "bUiWuX9wkhSi",
        "outputId": "a34b8119-9586-408c-b5ed-a6dfe014df3f"
      },
      "execution_count": 36,
      "outputs": [
        {
          "output_type": "execute_result",
          "data": {
            "text/plain": [
              "0.26122524541710496"
            ]
          },
          "metadata": {},
          "execution_count": 36
        }
      ]
    },
    {
      "cell_type": "code",
      "source": [
        "mape=np.mean((abs(x-rolling_mean)/x))*100\n",
        "mape"
      ],
      "metadata": {
        "colab": {
          "base_uri": "https://localhost:8080/"
        },
        "id": "jTmEXpgUlo9X",
        "outputId": "c28a2dcf-1094-45ca-87a1-dc4ac71dba7f"
      },
      "execution_count": 37,
      "outputs": [
        {
          "output_type": "execute_result",
          "data": {
            "text/plain": [
              "inf"
            ]
          },
          "metadata": {},
          "execution_count": 37
        }
      ]
    },
    {
      "cell_type": "code",
      "source": [
        "mse=np.mean((x-rolling_mean)**2)\n",
        "mse"
      ],
      "metadata": {
        "colab": {
          "base_uri": "https://localhost:8080/"
        },
        "id": "wcC1QSsbm7yv",
        "outputId": "c8867be7-1166-4c99-d287-ee75282d1057"
      },
      "execution_count": 38,
      "outputs": [
        {
          "output_type": "execute_result",
          "data": {
            "text/plain": [
              "0.1411018858970634"
            ]
          },
          "metadata": {},
          "execution_count": 38
        }
      ]
    },
    {
      "cell_type": "code",
      "source": [
        "rss=np.sum((x-rolling_mean)**2)\n",
        "tss=np.sum((x-x_mean)**2)\n",
        "r2=1-(rss/tss)\n",
        "r2"
      ],
      "metadata": {
        "id": "kQ1GxpNqnQAI",
        "colab": {
          "base_uri": "https://localhost:8080/"
        },
        "outputId": "c396c023-a716-4775-a3cf-92724b873579"
      },
      "execution_count": 41,
      "outputs": [
        {
          "output_type": "execute_result",
          "data": {
            "text/plain": [
              "0.9921035079716694"
            ]
          },
          "metadata": {},
          "execution_count": 41
        }
      ]
    },
    {
      "cell_type": "markdown",
      "source": [
        "window size 3"
      ],
      "metadata": {
        "id": "6XLuY45DAvcR"
      }
    },
    {
      "cell_type": "code",
      "source": [
        "window=x.rolling(3)"
      ],
      "metadata": {
        "id": "zwXBzXGEAlU_"
      },
      "execution_count": null,
      "outputs": []
    },
    {
      "cell_type": "code",
      "source": [
        "rolling_mean=window.mean()\n",
        "rolling_mean"
      ],
      "metadata": {
        "colab": {
          "base_uri": "https://localhost:8080/"
        },
        "outputId": "2e3731dc-4ae7-4fed-9032-cb6783d864c6",
        "id": "kOO6zyaVAlVC"
      },
      "execution_count": 43,
      "outputs": [
        {
          "output_type": "execute_result",
          "data": {
            "text/plain": [
              "0              NaN\n",
              "1              NaN\n",
              "2         5.399847\n",
              "3         5.515959\n",
              "4         5.484551\n",
              "           ...    \n",
              "50525    12.151903\n",
              "50526    10.431949\n",
              "50527     9.057345\n",
              "50528     8.396457\n",
              "50529     9.278685\n",
              "Name: Wind Speed (m/s), Length: 50530, dtype: float64"
            ]
          },
          "metadata": {},
          "execution_count": 43
        }
      ]
    },
    {
      "cell_type": "code",
      "source": [
        "mae=np.mean(abs(x-rolling_mean))\n",
        "mae"
      ],
      "metadata": {
        "colab": {
          "base_uri": "https://localhost:8080/"
        },
        "outputId": "ade0a5ef-2ff4-4cb9-a417-ced872fc4476",
        "id": "Q3YUwa9yAlVD"
      },
      "execution_count": 44,
      "outputs": [
        {
          "output_type": "execute_result",
          "data": {
            "text/plain": [
              "0.3849599710607413"
            ]
          },
          "metadata": {},
          "execution_count": 44
        }
      ]
    },
    {
      "cell_type": "code",
      "source": [
        "mape=np.mean((abs(x-rolling_mean)/x))*100\n",
        "mape"
      ],
      "metadata": {
        "colab": {
          "base_uri": "https://localhost:8080/"
        },
        "outputId": "6f859d06-f5cb-466a-9e29-13f04ce9f375",
        "id": "HywuIG3GAlVE"
      },
      "execution_count": 45,
      "outputs": [
        {
          "output_type": "execute_result",
          "data": {
            "text/plain": [
              "inf"
            ]
          },
          "metadata": {},
          "execution_count": 45
        }
      ]
    },
    {
      "cell_type": "code",
      "source": [
        "mse=np.mean((x-rolling_mean)**2)\n",
        "mse"
      ],
      "metadata": {
        "colab": {
          "base_uri": "https://localhost:8080/"
        },
        "outputId": "3de3af9a-4c9a-4f41-bcff-6934f8f887f8",
        "id": "ff-mtGT1AlVF"
      },
      "execution_count": 46,
      "outputs": [
        {
          "output_type": "execute_result",
          "data": {
            "text/plain": [
              "0.2967093554527884"
            ]
          },
          "metadata": {},
          "execution_count": 46
        }
      ]
    },
    {
      "cell_type": "code",
      "source": [
        "rss=np.sum((x-rolling_mean)**2)\n",
        "tss=np.sum((x-x_mean)**2)\n",
        "r2=1-(rss/tss)\n",
        "r2"
      ],
      "metadata": {
        "colab": {
          "base_uri": "https://localhost:8080/"
        },
        "outputId": "a931e72f-76b0-460b-8344-0e51b6db42e2",
        "id": "ooActLGqAlVG"
      },
      "execution_count": 47,
      "outputs": [
        {
          "output_type": "execute_result",
          "data": {
            "text/plain": [
              "0.9833955678445524"
            ]
          },
          "metadata": {},
          "execution_count": 47
        }
      ]
    },
    {
      "cell_type": "markdown",
      "source": [
        "window size 5\n"
      ],
      "metadata": {
        "id": "fgfT43N6A1d7"
      }
    },
    {
      "cell_type": "code",
      "source": [
        "window=x.rolling(5)"
      ],
      "metadata": {
        "id": "wlRUm_0CA66x"
      },
      "execution_count": null,
      "outputs": []
    },
    {
      "cell_type": "code",
      "source": [
        "rolling_mean=window.mean()\n",
        "rolling_mean"
      ],
      "metadata": {
        "colab": {
          "base_uri": "https://localhost:8080/"
        },
        "outputId": "94e4b737-b237-4d73-d243-9321337956b0",
        "id": "p2zb1PlXA66z"
      },
      "execution_count": 49,
      "outputs": [
        {
          "output_type": "execute_result",
          "data": {
            "text/plain": [
              "0              NaN\n",
              "1              NaN\n",
              "2              NaN\n",
              "3              NaN\n",
              "4         5.487431\n",
              "           ...    \n",
              "50525    12.143806\n",
              "50526    11.196803\n",
              "50527    10.444743\n",
              "50528     9.830514\n",
              "50529     9.314547\n",
              "Name: Wind Speed (m/s), Length: 50530, dtype: float64"
            ]
          },
          "metadata": {},
          "execution_count": 49
        }
      ]
    },
    {
      "cell_type": "code",
      "source": [
        "mae=np.mean(abs(x-rolling_mean))\n",
        "mae"
      ],
      "metadata": {
        "colab": {
          "base_uri": "https://localhost:8080/"
        },
        "outputId": "7737d63f-60b2-41bf-a728-ce1632381e9c",
        "id": "RKFl3_qGA660"
      },
      "execution_count": 50,
      "outputs": [
        {
          "output_type": "execute_result",
          "data": {
            "text/plain": [
              "0.5385576304188774"
            ]
          },
          "metadata": {},
          "execution_count": 50
        }
      ]
    },
    {
      "cell_type": "code",
      "source": [
        "mape=np.mean((abs(x-rolling_mean)/x))*100\n",
        "mape"
      ],
      "metadata": {
        "colab": {
          "base_uri": "https://localhost:8080/"
        },
        "outputId": "c4de2998-26ca-45d9-a097-7b9e71e93206",
        "id": "5eONSfe6A661"
      },
      "execution_count": 51,
      "outputs": [
        {
          "output_type": "execute_result",
          "data": {
            "text/plain": [
              "inf"
            ]
          },
          "metadata": {},
          "execution_count": 51
        }
      ]
    },
    {
      "cell_type": "code",
      "source": [
        "mse=np.mean((x-rolling_mean)**2)\n",
        "mse"
      ],
      "metadata": {
        "colab": {
          "base_uri": "https://localhost:8080/"
        },
        "outputId": "4a6fe4d7-ca69-4f48-fc5d-86b21882df4e",
        "id": "EBjToZv1A662"
      },
      "execution_count": 52,
      "outputs": [
        {
          "output_type": "execute_result",
          "data": {
            "text/plain": [
              "0.5715728141867222"
            ]
          },
          "metadata": {},
          "execution_count": 52
        }
      ]
    },
    {
      "cell_type": "code",
      "source": [
        "rss=np.sum((x-rolling_mean)**2)\n",
        "tss=np.sum((x-x_mean)**2)\n",
        "r2=1-(rss/tss)\n",
        "r2"
      ],
      "metadata": {
        "colab": {
          "base_uri": "https://localhost:8080/"
        },
        "outputId": "292e901a-85e1-49bc-e5d9-1a3fb987aec1",
        "id": "YJCwGe8jA664"
      },
      "execution_count": 53,
      "outputs": [
        {
          "output_type": "execute_result",
          "data": {
            "text/plain": [
              "0.9680149406079401"
            ]
          },
          "metadata": {},
          "execution_count": 53
        }
      ]
    },
    {
      "cell_type": "code",
      "source": [],
      "metadata": {
        "id": "JHJ-QfGrA9WA"
      },
      "execution_count": 53,
      "outputs": []
    }
  ]
}