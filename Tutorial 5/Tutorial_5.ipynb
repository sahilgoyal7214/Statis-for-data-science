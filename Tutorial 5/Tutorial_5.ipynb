{
  "nbformat": 4,
  "nbformat_minor": 0,
  "metadata": {
    "colab": {
      "provenance": [],
      "authorship_tag": "ABX9TyOGMMuAK0jF42JUZjeA6zPi",
      "include_colab_link": true
    },
    "kernelspec": {
      "name": "python3",
      "display_name": "Python 3"
    },
    "language_info": {
      "name": "python"
    }
  },
  "cells": [
    {
      "cell_type": "markdown",
      "metadata": {
        "id": "view-in-github",
        "colab_type": "text"
      },
      "source": [
        "<a href=\"https://colab.research.google.com/github/sahilgoyal7214/Statistics-for-Data-Science/blob/main/Tutorial%205/Tutorial_5.ipynb\" target=\"_parent\"><img src=\"https://colab.research.google.com/assets/colab-badge.svg\" alt=\"Open In Colab\"/></a>"
      ]
    },
    {
      "cell_type": "code",
      "execution_count": null,
      "metadata": {
        "colab": {
          "base_uri": "https://localhost:8080/"
        },
        "id": "fylrsMy5P0-J",
        "outputId": "57929be3-6c92-49b3-d0cc-4343ca273638"
      },
      "outputs": [
        {
          "output_type": "stream",
          "name": "stdout",
          "text": [
            "[[1 2 3]\n",
            " [4 5 6]]\n",
            "(2, 3)\n"
          ]
        }
      ],
      "source": [
        "#Question 1: Create a custom 2 x 3 array in Python and print its shape. \n",
        "import numpy as np \n",
        "x=np.array([[1,2,3], [4,5,6]]) #order 2*3: 2 rows and 3 columns \n",
        "print(x) \n",
        "print(x.shape) #shape-print the size of rows and columns \n"
      ]
    },
    {
      "cell_type": "code",
      "source": [
        "# Question 2: Create a random 10 x 1 array in Python and determine the mean and variance import numpy as np \n",
        "from numpy import random \n",
        "y=random.randint(11,size=(10,1)) #random 10*1 array \n",
        "print(y) \n",
        "print(\"The mean of the elements of the row\", np.mean(y,axis=1))#mean of rows \n",
        "print(\"The mean of the elements of the column\", np.mean(y,axis=0)) #mean of columns \n",
        "print(\"The variance of the elements of the row\", np.var(y,axis=1)) #variance of rows \n",
        "print(\"The variance of the elements of the column\", np.var(y,axis=0)) #variance of column \n"
      ],
      "metadata": {
        "colab": {
          "base_uri": "https://localhost:8080/"
        },
        "id": "Bg7v2vrJP8aq",
        "outputId": "2991b679-9286-4053-86de-d936cb9b8324"
      },
      "execution_count": null,
      "outputs": [
        {
          "output_type": "stream",
          "name": "stdout",
          "text": [
            "[[ 6]\n",
            " [ 0]\n",
            " [ 7]\n",
            " [ 8]\n",
            " [ 3]\n",
            " [ 9]\n",
            " [ 3]\n",
            " [ 2]\n",
            " [ 1]\n",
            " [10]]\n",
            "The mean of the elements of the row [ 6.  0.  7.  8.  3.  9.  3.  2.  1. 10.]\n",
            "The mean of the elements of the column [4.9]\n"
          ]
        }
      ]
    },
    {
      "cell_type": "code",
      "source": [
        "#Question 3: Create a random 10 x 10 array in Python and determine the mean along the rows and columns. \n",
        "import numpy as np \n",
        "from numpy import random \n",
        "y=random.randint(100,size=(10,10)) \n",
        "print(y) \n",
        "print(\"The mean of the elements in the row\", np.mean(y,axis=1)) #mean of rows \n",
        "print(\"The mean of the elements in the column\", np.mean(y,axis=0)) #mean of columns"
      ],
      "metadata": {
        "colab": {
          "base_uri": "https://localhost:8080/"
        },
        "id": "yfmUXk_kQNUn",
        "outputId": "627c58d2-00f7-4db2-c72e-81269d825917"
      },
      "execution_count": null,
      "outputs": [
        {
          "output_type": "stream",
          "name": "stdout",
          "text": [
            "[[27 95 88 85  0 11  6 32 11 14]\n",
            " [11 46 58 15 50 98  3 14  7 10]\n",
            " [54 51 31 89 99  6 60 72  2 18]\n",
            " [62 48 53 30 36 80 76 65 83 82]\n",
            " [38 41 14 16 76 97  1 57 12 77]\n",
            " [46 43 94 12 97 42  4 78 95 40]\n",
            " [58  3  5 86 12 57 71 60 14 85]\n",
            " [13 67 76 60  1 87 83 47 60 52]\n",
            " [82 84  9 38 18 37  1 82  2 77]\n",
            " [61 76 15 47 96  5 88  8 25  9]]\n",
            "The mean of the elements in the row [36.9 31.2 48.2 61.5 42.9 55.1 45.1 54.6 43.  43. ]\n"
          ]
        }
      ]
    },
    {
      "cell_type": "code",
      "source": [
        "#Question 4: Import .csv file in Python3 environment using NumPy library import numpy as np \n",
        "df=np.loadtxt('/content/NFLX.csv', delimiter=\",\", dtype=str) \n",
        "df=df[1:,1:] # removes first row and column \n",
        "df=df.astype('float64') #string to float \n",
        "print(df) \n"
      ],
      "metadata": {
        "colab": {
          "base_uri": "https://localhost:8080/"
        },
        "id": "q_53DGtWQdVt",
        "outputId": "2053e137-fa1d-4471-ff68-b25fe9e61e44"
      },
      "execution_count": null,
      "outputs": [
        {
          "output_type": "stream",
          "name": "stdout",
          "text": [
            "[['262.000000' '267.899994' '250.029999' '254.259995' '254.259995'\n",
            "  '11896100']\n",
            " ['247.699997' '266.700012' '245.000000' '265.720001' '265.720001'\n",
            "  '12595800']\n",
            " ['266.579987' '272.450012' '264.329987' '264.559998' '264.559998'\n",
            "  '8981500']\n",
            " ...\n",
            " ['448.250000' '451.980011' '426.480011' '429.480011' '429.480011'\n",
            "  '14346000']\n",
            " ['421.440002' '429.260010' '404.279999' '405.600006' '405.600006'\n",
            "  '9905200']\n",
            " ['407.309998' '412.769989' '396.640015' '410.170013' '410.170013'\n",
            "  '7782400']]\n"
          ]
        }
      ]
    },
    {
      "cell_type": "code",
      "source": [],
      "metadata": {
        "id": "ZqOIiV64RwqH"
      },
      "execution_count": null,
      "outputs": []
    }
  ]
}